{
 "cells": [
  {
   "cell_type": "code",
   "execution_count": 1,
   "metadata": {},
   "outputs": [
    {
     "name": "stdout",
     "output_type": "stream",
     "text": [
      "Obtaining file:///home/sauxpa/github/reinforcement_trading/gym-rl_trading\n",
      "Requirement already satisfied: gym in /home/sauxpa/anaconda3/lib/python3.7/site-packages (from gym-rl-trading==0.0.1) (0.15.6)\n",
      "Requirement already satisfied: scipy in /home/sauxpa/anaconda3/lib/python3.7/site-packages (from gym->gym-rl-trading==0.0.1) (1.3.1)\n",
      "Requirement already satisfied: pyglet<=1.5.0,>=1.4.0 in /home/sauxpa/anaconda3/lib/python3.7/site-packages (from gym->gym-rl-trading==0.0.1) (1.4.10)\n",
      "Requirement already satisfied: six in /home/sauxpa/anaconda3/lib/python3.7/site-packages (from gym->gym-rl-trading==0.0.1) (1.12.0)\n",
      "Requirement already satisfied: cloudpickle~=1.2.0 in /home/sauxpa/anaconda3/lib/python3.7/site-packages (from gym->gym-rl-trading==0.0.1) (1.2.2)\n",
      "Requirement already satisfied: numpy>=1.10.4 in /home/sauxpa/anaconda3/lib/python3.7/site-packages (from gym->gym-rl-trading==0.0.1) (1.17.2)\n",
      "Requirement already satisfied: future in /home/sauxpa/anaconda3/lib/python3.7/site-packages (from pyglet<=1.5.0,>=1.4.0->gym->gym-rl-trading==0.0.1) (0.17.1)\n",
      "Installing collected packages: gym-rl-trading\n",
      "  Found existing installation: gym-rl-trading 0.0.1\n",
      "    Uninstalling gym-rl-trading-0.0.1:\n",
      "      Successfully uninstalled gym-rl-trading-0.0.1\n",
      "  Running setup.py develop for gym-rl-trading\n",
      "Successfully installed gym-rl-trading\n"
     ]
    }
   ],
   "source": [
    "!pip install -e gym-rl_trading/"
   ]
  },
  {
   "cell_type": "code",
   "execution_count": 2,
   "metadata": {},
   "outputs": [],
   "source": [
    "import gym\n",
    "import gym_rl_trading\n",
    "\n",
    "# Autonomous Learning Library\n",
    "# https://github.com/cpnota/autonomous-learning-library\n",
    "from all.environments import GymEnvironment\n",
    "from all.experiments import Experiment\n",
    "from all.presets.classic_control import a2c"
   ]
  },
  {
   "cell_type": "code",
   "execution_count": 3,
   "metadata": {},
   "outputs": [
    {
     "name": "stderr",
     "output_type": "stream",
     "text": [
      "/home/sauxpa/anaconda3/lib/python3.7/site-packages/gym/logger.py:30: UserWarning: \u001b[33mWARN: Box bound precision lowered by casting to float64\u001b[0m\n",
      "  warnings.warn(colorize('%s: %s'%('WARN', msg % args), 'yellow'))\n"
     ]
    }
   ],
   "source": [
    "device = 'cpu'\n",
    "\n",
    "# Brownian returns, no trend, no profit-making strategy.\n",
    "env0 = GymEnvironment('rl_trading-v0', device=device)\n",
    "\n",
    "# Brownian returns, +5% trend, profit-making long strategy.\n",
    "env1 = GymEnvironment('rl_trading-v1', device=device)\n",
    "\n",
    "# Brownian returns carried by a cyclical trend.\n",
    "env2 = GymEnvironment('rl_trading-v2', device=device)\n",
    "\n",
    "# Fractional Brownian, with local trend-following patterns.\n",
    "env3 = GymEnvironment('rl_trading-v3', device=device)\n",
    "\n",
    "# Fractional Brownian, with local mean-reversion patterns.\n",
    "env4 = GymEnvironment('rl_trading-v4', device=device)\n",
    "\n",
    "# Deterministic baseline with local trend-following patterns\n",
    "env5 = GymEnvironment('rl_trading-v5', device=device)\n",
    "\n",
    "# Deterministic baseline with local mean-reversion patterns\n",
    "env6 = GymEnvironment('rl_trading-v6', device=device)\n",
    "\n",
    "# Fractional Brownian, with local trend-following patterns.\n",
    "# Observations are augmented vith the empirical autocorrelogram.\n",
    "env7 = GymEnvironment('rl_trading-v7', device=device)\n",
    "\n",
    "# Fractional Brownian, with local mean-reversion patterns.\n",
    "# Observations are augmented vith the empirical autocorrelogram.\n",
    "env8 = GymEnvironment('rl_trading-v8', device=device)"
   ]
  },
  {
   "cell_type": "code",
   "execution_count": 4,
   "metadata": {},
   "outputs": [],
   "source": [
    "### to view training results, run in a terminal:\n",
    "# !tensorboard --logdir runs"
   ]
  },
  {
   "cell_type": "code",
   "execution_count": 6,
   "metadata": {},
   "outputs": [
    {
     "name": "stderr",
     "output_type": "stream",
     "text": [
      "/home/sauxpa/anaconda3/lib/python3.7/site-packages/gym/logger.py:30: UserWarning: \u001b[33mWARN: Box bound precision lowered by casting to float64\u001b[0m\n",
      "  warnings.warn(colorize('%s: %s'%('WARN', msg % args), 'yellow'))\n"
     ]
    },
    {
     "name": "stdout",
     "output_type": "stream",
     "text": [
      "episode: 1, frames: 3980, fps: 2907, returns: 282\n",
      "episode: 2, frames: 3980, fps: 1070, returns: 177\n",
      "episode: 3, frames: 3980, fps: 665, returns: 238\n",
      "episode: 4, frames: 3980, fps: 452, returns: 25\n",
      "episode: 5, frames: 7960, fps: 615, returns: 43\n",
      "episode: 6, frames: 7960, fps: 505, returns: 21\n",
      "episode: 7, frames: 7960, fps: 437, returns: 13\n",
      "episode: 8, frames: 7960, fps: 385, returns: 211\n",
      "episode: 9, frames: 11940, fps: 466, returns: 1210\n",
      "episode: 10, frames: 11940, fps: 426, returns: 928\n",
      "episode: 11, frames: 11940, fps: 393, returns: 237\n",
      "episode: 12, frames: 11940, fps: 362, returns: 1533\n",
      "episode: 13, frames: 15920, fps: 409, returns: 65\n",
      "episode: 14, frames: 15920, fps: 385, returns: -48\n",
      "episode: 15, frames: 15920, fps: 362, returns: 426\n",
      "episode: 16, frames: 15920, fps: 327, returns: 85\n",
      "episode: 17, frames: 19900, fps: 373, returns: 1818\n",
      "episode: 18, frames: 19900, fps: 358, returns: 35\n",
      "episode: 19, frames: 19900, fps: 344, returns: 559\n",
      "episode: 20, frames: 19900, fps: 330, returns: 603\n",
      "episode: 21, frames: 23880, fps: 373, returns: 181\n",
      "episode: 22, frames: 23880, fps: 360, returns: 83\n",
      "episode: 23, frames: 23880, fps: 348, returns: 112\n",
      "episode: 24, frames: 23880, fps: 336, returns: 372\n",
      "episode: 25, frames: 27860, fps: 365, returns: 681\n",
      "episode: 26, frames: 27860, fps: 354, returns: 497\n",
      "episode: 27, frames: 27860, fps: 344, returns: -32\n",
      "episode: 28, frames: 27860, fps: 335, returns: 19\n",
      "episode: 29, frames: 31840, fps: 367, returns: -31\n",
      "episode: 30, frames: 31840, fps: 357, returns: 31\n",
      "episode: 31, frames: 31840, fps: 348, returns: 162\n",
      "episode: 32, frames: 31840, fps: 339, returns: 1348\n",
      "episode: 33, frames: 35820, fps: 367, returns: 23\n",
      "episode: 34, frames: 35820, fps: 359, returns: 130\n",
      "episode: 35, frames: 35820, fps: 350, returns: -45\n",
      "episode: 36, frames: 35820, fps: 342, returns: -24\n",
      "episode: 37, frames: 39800, fps: 362, returns: 32\n",
      "episode: 38, frames: 39800, fps: 354, returns: -98\n",
      "episode: 39, frames: 39800, fps: 347, returns: -29\n",
      "episode: 40, frames: 39800, fps: 340, returns: 1217\n",
      "episode: 41, frames: 43780, fps: 362, returns: -27\n",
      "episode: 42, frames: 43780, fps: 355, returns: 862\n",
      "episode: 43, frames: 43780, fps: 349, returns: 166\n",
      "episode: 44, frames: 43780, fps: 342, returns: 100\n",
      "episode: 45, frames: 47760, fps: 360, returns: 862\n",
      "episode: 46, frames: 47760, fps: 353, returns: 495\n",
      "episode: 47, frames: 47760, fps: 347, returns: 77\n",
      "episode: 48, frames: 47760, fps: 341, returns: 287\n",
      "episode: 49, frames: 51740, fps: 355, returns: -27\n",
      "episode: 50, frames: 51740, fps: 348, returns: -7\n",
      "episode: 51, frames: 51740, fps: 342, returns: 4\n",
      "episode: 52, frames: 51740, fps: 336, returns: -23\n"
     ]
    },
    {
     "data": {
      "text/plain": [
       "<all.experiments.experiment.Experiment at 0x7fd068cbd0d0>"
      ]
     },
     "execution_count": 6,
     "metadata": {},
     "output_type": "execute_result"
    }
   ],
   "source": [
    "episodes = 50\n",
    "env = env5\n",
    "\n",
    "Experiment(\n",
    "    a2c(\n",
    "        device=device, \n",
    "    ),\n",
    "    env,\n",
    "    episodes=episodes,\n",
    ")"
   ]
  },
  {
   "cell_type": "code",
   "execution_count": null,
   "metadata": {},
   "outputs": [],
   "source": []
  }
 ],
 "metadata": {
  "kernelspec": {
   "display_name": "Python 3",
   "language": "python",
   "name": "python3"
  },
  "language_info": {
   "codemirror_mode": {
    "name": "ipython",
    "version": 3
   },
   "file_extension": ".py",
   "mimetype": "text/x-python",
   "name": "python",
   "nbconvert_exporter": "python",
   "pygments_lexer": "ipython3",
   "version": "3.7.4"
  }
 },
 "nbformat": 4,
 "nbformat_minor": 2
}
