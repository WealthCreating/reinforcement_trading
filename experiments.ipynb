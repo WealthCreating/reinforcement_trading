{
 "cells": [
  {
   "cell_type": "code",
   "execution_count": 1,
   "metadata": {},
   "outputs": [
    {
     "name": "stdout",
     "output_type": "stream",
     "text": [
      "Obtaining file:///home/sauxpa/github/all_examples/gym-rl_trading\n",
      "Requirement already satisfied: gym in /home/sauxpa/anaconda3/lib/python3.7/site-packages (from gym-rl-trading==0.0.1) (0.15.6)\n",
      "Requirement already satisfied: pyglet<=1.5.0,>=1.4.0 in /home/sauxpa/anaconda3/lib/python3.7/site-packages (from gym->gym-rl-trading==0.0.1) (1.4.10)\n",
      "Requirement already satisfied: six in /home/sauxpa/anaconda3/lib/python3.7/site-packages (from gym->gym-rl-trading==0.0.1) (1.12.0)\n",
      "Requirement already satisfied: numpy>=1.10.4 in /home/sauxpa/anaconda3/lib/python3.7/site-packages (from gym->gym-rl-trading==0.0.1) (1.17.2)\n",
      "Requirement already satisfied: scipy in /home/sauxpa/anaconda3/lib/python3.7/site-packages (from gym->gym-rl-trading==0.0.1) (1.3.1)\n",
      "Requirement already satisfied: cloudpickle~=1.2.0 in /home/sauxpa/anaconda3/lib/python3.7/site-packages (from gym->gym-rl-trading==0.0.1) (1.2.2)\n",
      "Requirement already satisfied: future in /home/sauxpa/anaconda3/lib/python3.7/site-packages (from pyglet<=1.5.0,>=1.4.0->gym->gym-rl-trading==0.0.1) (0.17.1)\n",
      "Installing collected packages: gym-rl-trading\n",
      "  Found existing installation: gym-rl-trading 0.0.1\n",
      "    Uninstalling gym-rl-trading-0.0.1:\n",
      "      Successfully uninstalled gym-rl-trading-0.0.1\n",
      "  Running setup.py develop for gym-rl-trading\n",
      "Successfully installed gym-rl-trading\n"
     ]
    }
   ],
   "source": [
    "# !pip install -e gym-rl_trading/"
   ]
  },
  {
   "cell_type": "code",
   "execution_count": 2,
   "metadata": {},
   "outputs": [],
   "source": [
    "import gym\n",
    "import gym_rl_trading\n",
    "\n",
    "# Autonomous Learning Library\n",
    "# https://github.com/cpnota/autonomous-learning-library\n",
    "from all.environments import GymEnvironment\n",
    "from all.experiments import Experiment\n",
    "from all.presets.classic_control import a2c"
   ]
  },
  {
   "cell_type": "code",
   "execution_count": 3,
   "metadata": {},
   "outputs": [
    {
     "name": "stderr",
     "output_type": "stream",
     "text": [
      "/home/sauxpa/anaconda3/lib/python3.7/site-packages/gym/logger.py:30: UserWarning: \u001b[33mWARN: Box bound precision lowered by casting to float64\u001b[0m\n",
      "  warnings.warn(colorize('%s: %s'%('WARN', msg % args), 'yellow'))\n"
     ]
    }
   ],
   "source": [
    "device = 'cpu'\n",
    "\n",
    "# Brownian returns, no trend, no profit-making strategy.\n",
    "env0 = GymEnvironment('rl_trading-v0', device=device)\n",
    "\n",
    "# Brownian returns, +5% trend, profit-making long strategy.\n",
    "env1 = GymEnvironment('rl_trading-v1', device=device)\n",
    "\n",
    "# Brownian returns carried by a cyclical trend.\n",
    "env2 = GymEnvironment('rl_trading-v2', device=device)\n",
    "\n",
    "# Fractional Brownian, with local trend-following patterns.\n",
    "env3 = GymEnvironment('rl_trading-v3', device=device)\n",
    "\n",
    "# Fractional Brownian, with local mean-reversion patterns.\n",
    "env4 = GymEnvironment('rl_trading-v4', device=device)\n",
    "\n",
    "# Deterministic baseline with local trend-following patterns\n",
    "env5 = GymEnvironment('rl_trading-v5', device=device)\n",
    "\n",
    "# Deterministic baseline with local mean-reversion patterns\n",
    "env6 = GymEnvironment('rl_trading-v6', device=device)\n",
    "\n",
    "# Fractional Brownian, with local trend-following patterns.\n",
    "# Observations are augmented vith the empirical autocorrelogram.\n",
    "env5 = GymEnvironment('rl_trading-v7', device=device)\n",
    "\n",
    "# Fractional Brownian, with local mean-reversion patterns.\n",
    "# Observations are augmented vith the empirical autocorrelogram.\n",
    "env6 = GymEnvironment('rl_trading-v8', device=device)"
   ]
  },
  {
   "cell_type": "code",
   "execution_count": 4,
   "metadata": {},
   "outputs": [],
   "source": [
    "### to view training results, run in a terminal:\n",
    "# !tensorboard --logdir runs"
   ]
  },
  {
   "cell_type": "code",
   "execution_count": 5,
   "metadata": {},
   "outputs": [
    {
     "name": "stdout",
     "output_type": "stream",
     "text": [
      "episode: 1, frames: 2000, fps: 645, returns: 19\n",
      "episode: 2, frames: 2000, fps: 313, returns: 1\n",
      "episode: 3, frames: 2000, fps: 208, returns: -5\n",
      "episode: 4, frames: 2000, fps: 158, returns: -9\n",
      "episode: 5, frames: 4000, fps: 226, returns: -340\n",
      "episode: 6, frames: 4000, fps: 195, returns: 81\n",
      "episode: 7, frames: 4000, fps: 172, returns: 60\n",
      "episode: 8, frames: 4000, fps: 155, returns: -7\n",
      "episode: 9, frames: 6000, fps: 196, returns: 6\n",
      "episode: 10, frames: 6000, fps: 180, returns: 31\n",
      "episode: 11, frames: 6000, fps: 167, returns: 99\n",
      "episode: 12, frames: 6000, fps: 156, returns: -26\n",
      "episode: 13, frames: 8000, fps: 189, returns: -19\n",
      "episode: 14, frames: 8000, fps: 178, returns: 13\n",
      "episode: 15, frames: 8000, fps: 168, returns: 43\n",
      "episode: 16, frames: 8000, fps: 159, returns: 14\n",
      "episode: 17, frames: 10000, fps: 182, returns: 3\n",
      "episode: 18, frames: 10000, fps: 173, returns: -42\n",
      "episode: 19, frames: 10000, fps: 165, returns: -56\n",
      "episode: 20, frames: 10000, fps: 158, returns: -48\n",
      "episode: 21, frames: 12000, fps: 179, returns: -135\n",
      "episode: 22, frames: 12000, fps: 172, returns: -7\n",
      "episode: 23, frames: 12000, fps: 166, returns: 9\n",
      "episode: 24, frames: 12000, fps: 160, returns: 6\n",
      "episode: 25, frames: 14000, fps: 175, returns: -29\n",
      "episode: 26, frames: 14000, fps: 170, returns: 8\n",
      "episode: 27, frames: 14000, fps: 164, returns: 16\n",
      "episode: 28, frames: 14000, fps: 159, returns: 46\n",
      "episode: 29, frames: 16000, fps: 175, returns: -9\n",
      "episode: 30, frames: 16000, fps: 170, returns: 72\n",
      "episode: 31, frames: 16000, fps: 164, returns: 28\n",
      "episode: 32, frames: 16000, fps: 159, returns: -38\n",
      "episode: 33, frames: 18000, fps: 171, returns: 64\n",
      "episode: 34, frames: 18000, fps: 166, returns: 30\n",
      "episode: 35, frames: 18000, fps: 161, returns: -21\n",
      "episode: 36, frames: 18000, fps: 156, returns: -66\n",
      "episode: 37, frames: 20000, fps: 166, returns: -22\n",
      "episode: 38, frames: 20000, fps: 162, returns: -48\n",
      "episode: 39, frames: 20000, fps: 159, returns: 13\n",
      "episode: 40, frames: 20000, fps: 155, returns: -42\n",
      "episode: 41, frames: 22000, fps: 164, returns: -41\n",
      "episode: 42, frames: 22000, fps: 161, returns: -24\n",
      "episode: 43, frames: 22000, fps: 157, returns: -3\n",
      "episode: 44, frames: 22000, fps: 154, returns: -22\n",
      "episode: 45, frames: 24000, fps: 163, returns: 27\n",
      "episode: 46, frames: 24000, fps: 160, returns: 90\n",
      "episode: 47, frames: 24000, fps: 157, returns: 99\n",
      "episode: 48, frames: 24000, fps: 154, returns: -14\n"
     ]
    },
    {
     "data": {
      "text/plain": [
       "<all.experiments.experiment.Experiment at 0x7fb63267dd50>"
      ]
     },
     "execution_count": 5,
     "metadata": {},
     "output_type": "execute_result"
    }
   ],
   "source": [
    "n_episodes = 50\n",
    "frames = 500 * n_episodes\n",
    "env = env5\n",
    "\n",
    "Experiment(\n",
    "    a2c(\n",
    "        device=device, \n",
    "    ),\n",
    "    env,\n",
    "    frames=frames,\n",
    ")"
   ]
  },
  {
   "cell_type": "code",
   "execution_count": null,
   "metadata": {},
   "outputs": [],
   "source": []
  }
 ],
 "metadata": {
  "kernelspec": {
   "display_name": "Python 3",
   "language": "python",
   "name": "python3"
  },
  "language_info": {
   "codemirror_mode": {
    "name": "ipython",
    "version": 3
   },
   "file_extension": ".py",
   "mimetype": "text/x-python",
   "name": "python",
   "nbconvert_exporter": "python",
   "pygments_lexer": "ipython3",
   "version": "3.7.4"
  }
 },
 "nbformat": 4,
 "nbformat_minor": 2
}
