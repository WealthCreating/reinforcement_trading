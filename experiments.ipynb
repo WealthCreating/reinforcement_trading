{
 "cells": [
  {
   "cell_type": "code",
   "execution_count": null,
   "metadata": {},
   "outputs": [],
   "source": [
    "!pip install -e gym-rl_trading/"
   ]
  },
  {
   "cell_type": "code",
   "execution_count": null,
   "metadata": {},
   "outputs": [],
   "source": [
    "import gym\n",
    "import gym_rl_trading\n",
    "\n",
    "# Autonomous Learning Library\n",
    "# https://github.com/cpnota/autonomous-learning-library\n",
    "from all.environments import GymEnvironment\n",
    "from all.experiments import Experiment\n",
    "from all.presets.classic_control import a2c"
   ]
  },
  {
   "cell_type": "code",
   "execution_count": null,
   "metadata": {},
   "outputs": [],
   "source": [
    "device = 'cpu'\n",
    "\n",
    "# Brownian returns, no trend, no profit-making strategy.\n",
    "env0 = GymEnvironment('rl_trading-v0', device=device)\n",
    "\n",
    "# Brownian returns, +5% trend, profit-making long strategy.\n",
    "env1 = GymEnvironment('rl_trading-v1', device=device)\n",
    "\n",
    "# Brownian returns carried by a cyclical trend.\n",
    "env2 = GymEnvironment('rl_trading-v2', device=device)\n",
    "\n",
    "# Fractional Brownian, with local trend-following patterns.\n",
    "env3 = GymEnvironment('rl_trading-v3', device=device)\n",
    "\n",
    "# Fractional Brownian, with local mean-reversion patterns.\n",
    "env4 = GymEnvironment('rl_trading-v4', device=device)\n",
    "\n",
    "# Deterministic baseline with local trend-following patterns\n",
    "env5 = GymEnvironment('rl_trading-v5', device=device)\n",
    "\n",
    "# Deterministic baseline with local mean-reversion patterns\n",
    "env6 = GymEnvironment('rl_trading-v6', device=device)\n",
    "\n",
    "# Fractional Brownian, with local trend-following patterns.\n",
    "# Observations are augmented vith the empirical autocorrelogram.\n",
    "env7 = GymEnvironment('rl_trading-v7', device=device)\n",
    "\n",
    "# Fractional Brownian, with local mean-reversion patterns.\n",
    "# Observations are augmented vith the empirical autocorrelogram.\n",
    "env8 = GymEnvironment('rl_trading-v8', device=device)"
   ]
  },
  {
   "cell_type": "code",
   "execution_count": null,
   "metadata": {},
   "outputs": [],
   "source": [
    "episodes = 2000\n",
    "env = env3\n",
    "\n",
    "Experiment(\n",
    "    a2c(\n",
    "        device=device, \n",
    "    ),\n",
    "    env,\n",
    "    episodes=episodes,\n",
    ")"
   ]
  },
  {
   "cell_type": "code",
   "execution_count": null,
   "metadata": {},
   "outputs": [],
   "source": [
    "### to view training results, run in a terminal:\n",
    "!tensorboard --logdir runs"
   ]
  },
  {
   "cell_type": "code",
   "execution_count": null,
   "metadata": {},
   "outputs": [],
   "source": []
  }
 ],
 "metadata": {
  "kernelspec": {
   "display_name": "Python 3",
   "language": "python",
   "name": "python3"
  },
  "language_info": {
   "codemirror_mode": {
    "name": "ipython",
    "version": 3
   },
   "file_extension": ".py",
   "mimetype": "text/x-python",
   "name": "python",
   "nbconvert_exporter": "python",
   "pygments_lexer": "ipython3",
   "version": "3.7.4"
  }
 },
 "nbformat": 4,
 "nbformat_minor": 2
}
